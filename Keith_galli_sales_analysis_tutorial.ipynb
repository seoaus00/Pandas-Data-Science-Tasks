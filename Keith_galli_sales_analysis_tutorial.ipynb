{
 "cells": [
  {
   "cell_type": "markdown",
   "metadata": {},
   "source": [
    "# Imports"
   ]
  },
  {
   "cell_type": "code",
   "execution_count": 17,
   "metadata": {},
   "outputs": [],
   "source": [
    "import pandas as pd\n",
    "import os\n",
    "import matplotlib.pyplot as plt"
   ]
  },
  {
   "cell_type": "markdown",
   "metadata": {
    "collapsed": true
   },
   "source": [
    "# Merge the 12 months of sales into a single csv file"
   ]
  },
  {
   "cell_type": "code",
   "execution_count": 18,
   "metadata": {},
   "outputs": [],
   "source": [
    "# utilize the os import\n",
    "files = [file for file in os.listdir('./SalesAnalysis/Sales_Data')]\n",
    "\n",
    "all_months_data = pd.DataFrame()\n",
    "\n",
    "for file in files:\n",
    "    df = pd.read_csv('./SalesAnalysis/Sales_Data/'+ file)\n",
    "    all_months_data = pd.concat([all_months_data, df])\n",
    "\n",
    "all_months_data.to_csv('all_data.csv', index=False)"
   ]
  },
  {
   "cell_type": "markdown",
   "metadata": {
    "collapsed": true
   },
   "source": [
    "## Read in updated csv"
   ]
  },
  {
   "cell_type": "code",
   "execution_count": 19,
   "metadata": {
    "scrolled": true
   },
   "outputs": [
    {
     "data": {
      "text/plain": "  Order ID               Product Quantity Ordered Price Each      Order Date  \\\n0   295665    Macbook Pro Laptop                1       1700  12/30/19 00:01   \n1   295666    LG Washing Machine                1      600.0  12/29/19 07:03   \n2   295667  USB-C Charging Cable                1      11.95  12/12/19 18:21   \n3   295668      27in FHD Monitor                1     149.99  12/22/19 15:13   \n4   295669  USB-C Charging Cable                1      11.95  12/18/19 12:38   \n\n                         Purchase Address  \n0  136 Church St, New York City, NY 10001  \n1     562 2nd St, New York City, NY 10001  \n2    277 Main St, New York City, NY 10001  \n3     410 6th St, San Francisco, CA 94016  \n4           43 Hill St, Atlanta, GA 30301  ",
      "text/html": "<div>\n<style scoped>\n    .dataframe tbody tr th:only-of-type {\n        vertical-align: middle;\n    }\n\n    .dataframe tbody tr th {\n        vertical-align: top;\n    }\n\n    .dataframe thead th {\n        text-align: right;\n    }\n</style>\n<table border=\"1\" class=\"dataframe\">\n  <thead>\n    <tr style=\"text-align: right;\">\n      <th></th>\n      <th>Order ID</th>\n      <th>Product</th>\n      <th>Quantity Ordered</th>\n      <th>Price Each</th>\n      <th>Order Date</th>\n      <th>Purchase Address</th>\n    </tr>\n  </thead>\n  <tbody>\n    <tr>\n      <th>0</th>\n      <td>295665</td>\n      <td>Macbook Pro Laptop</td>\n      <td>1</td>\n      <td>1700</td>\n      <td>12/30/19 00:01</td>\n      <td>136 Church St, New York City, NY 10001</td>\n    </tr>\n    <tr>\n      <th>1</th>\n      <td>295666</td>\n      <td>LG Washing Machine</td>\n      <td>1</td>\n      <td>600.0</td>\n      <td>12/29/19 07:03</td>\n      <td>562 2nd St, New York City, NY 10001</td>\n    </tr>\n    <tr>\n      <th>2</th>\n      <td>295667</td>\n      <td>USB-C Charging Cable</td>\n      <td>1</td>\n      <td>11.95</td>\n      <td>12/12/19 18:21</td>\n      <td>277 Main St, New York City, NY 10001</td>\n    </tr>\n    <tr>\n      <th>3</th>\n      <td>295668</td>\n      <td>27in FHD Monitor</td>\n      <td>1</td>\n      <td>149.99</td>\n      <td>12/22/19 15:13</td>\n      <td>410 6th St, San Francisco, CA 94016</td>\n    </tr>\n    <tr>\n      <th>4</th>\n      <td>295669</td>\n      <td>USB-C Charging Cable</td>\n      <td>1</td>\n      <td>11.95</td>\n      <td>12/18/19 12:38</td>\n      <td>43 Hill St, Atlanta, GA 30301</td>\n    </tr>\n  </tbody>\n</table>\n</div>"
     },
     "execution_count": 19,
     "metadata": {},
     "output_type": "execute_result"
    }
   ],
   "source": [
    "all_data = pd.read_csv('./all_data.csv')\n",
    "all_data.head()"
   ]
  },
  {
   "cell_type": "markdown",
   "metadata": {},
   "source": [
    "## Clean up data!"
   ]
  },
  {
   "cell_type": "markdown",
   "metadata": {},
   "source": [
    "### Drop rows of NaN"
   ]
  },
  {
   "cell_type": "code",
   "execution_count": 20,
   "metadata": {
    "scrolled": true
   },
   "outputs": [
    {
     "data": {
      "text/plain": "  Order ID               Product Quantity Ordered Price Each      Order Date  \\\n0   295665    Macbook Pro Laptop                1       1700  12/30/19 00:01   \n1   295666    LG Washing Machine                1      600.0  12/29/19 07:03   \n2   295667  USB-C Charging Cable                1      11.95  12/12/19 18:21   \n3   295668      27in FHD Monitor                1     149.99  12/22/19 15:13   \n4   295669  USB-C Charging Cable                1      11.95  12/18/19 12:38   \n\n                         Purchase Address  \n0  136 Church St, New York City, NY 10001  \n1     562 2nd St, New York City, NY 10001  \n2    277 Main St, New York City, NY 10001  \n3     410 6th St, San Francisco, CA 94016  \n4           43 Hill St, Atlanta, GA 30301  ",
      "text/html": "<div>\n<style scoped>\n    .dataframe tbody tr th:only-of-type {\n        vertical-align: middle;\n    }\n\n    .dataframe tbody tr th {\n        vertical-align: top;\n    }\n\n    .dataframe thead th {\n        text-align: right;\n    }\n</style>\n<table border=\"1\" class=\"dataframe\">\n  <thead>\n    <tr style=\"text-align: right;\">\n      <th></th>\n      <th>Order ID</th>\n      <th>Product</th>\n      <th>Quantity Ordered</th>\n      <th>Price Each</th>\n      <th>Order Date</th>\n      <th>Purchase Address</th>\n    </tr>\n  </thead>\n  <tbody>\n    <tr>\n      <th>0</th>\n      <td>295665</td>\n      <td>Macbook Pro Laptop</td>\n      <td>1</td>\n      <td>1700</td>\n      <td>12/30/19 00:01</td>\n      <td>136 Church St, New York City, NY 10001</td>\n    </tr>\n    <tr>\n      <th>1</th>\n      <td>295666</td>\n      <td>LG Washing Machine</td>\n      <td>1</td>\n      <td>600.0</td>\n      <td>12/29/19 07:03</td>\n      <td>562 2nd St, New York City, NY 10001</td>\n    </tr>\n    <tr>\n      <th>2</th>\n      <td>295667</td>\n      <td>USB-C Charging Cable</td>\n      <td>1</td>\n      <td>11.95</td>\n      <td>12/12/19 18:21</td>\n      <td>277 Main St, New York City, NY 10001</td>\n    </tr>\n    <tr>\n      <th>3</th>\n      <td>295668</td>\n      <td>27in FHD Monitor</td>\n      <td>1</td>\n      <td>149.99</td>\n      <td>12/22/19 15:13</td>\n      <td>410 6th St, San Francisco, CA 94016</td>\n    </tr>\n    <tr>\n      <th>4</th>\n      <td>295669</td>\n      <td>USB-C Charging Cable</td>\n      <td>1</td>\n      <td>11.95</td>\n      <td>12/18/19 12:38</td>\n      <td>43 Hill St, Atlanta, GA 30301</td>\n    </tr>\n  </tbody>\n</table>\n</div>"
     },
     "execution_count": 20,
     "metadata": {},
     "output_type": "execute_result"
    }
   ],
   "source": [
    "nan_df = all_data[all_data.isna().any(axis=1)]\n",
    "nan_df.head()\n",
    "\n",
    "all_data = all_data.dropna(how='all')\n",
    "all_data.head()"
   ]
  },
  {
   "cell_type": "markdown",
   "metadata": {},
   "source": [
    "### Find 'Or' and delete"
   ]
  },
  {
   "cell_type": "code",
   "execution_count": 21,
   "metadata": {},
   "outputs": [],
   "source": [
    "# find all the rows that are problematic\n",
    "temp_df = all_data[all_data['Order Date'].str[0:2] == 'Or']\n",
    "temp_df.head() # it appears that the column names are being duplicated in some of the rows\n",
    "\n",
    "# filter all_data df to get rid of these rows\n",
    "all_data = all_data[all_data['Order Date'].str[0:2] != 'Or']"
   ]
  },
  {
   "cell_type": "markdown",
   "metadata": {},
   "source": [
    "### Convert columns to correct type"
   ]
  },
  {
   "cell_type": "code",
   "execution_count": 22,
   "metadata": {},
   "outputs": [
    {
     "data": {
      "text/plain": "  Order ID               Product  Quantity Ordered  Price Each  \\\n0   295665    Macbook Pro Laptop                 1     1700.00   \n1   295666    LG Washing Machine                 1      600.00   \n2   295667  USB-C Charging Cable                 1       11.95   \n3   295668      27in FHD Monitor                 1      149.99   \n4   295669  USB-C Charging Cable                 1       11.95   \n\n       Order Date                        Purchase Address  \n0  12/30/19 00:01  136 Church St, New York City, NY 10001  \n1  12/29/19 07:03     562 2nd St, New York City, NY 10001  \n2  12/12/19 18:21    277 Main St, New York City, NY 10001  \n3  12/22/19 15:13     410 6th St, San Francisco, CA 94016  \n4  12/18/19 12:38           43 Hill St, Atlanta, GA 30301  ",
      "text/html": "<div>\n<style scoped>\n    .dataframe tbody tr th:only-of-type {\n        vertical-align: middle;\n    }\n\n    .dataframe tbody tr th {\n        vertical-align: top;\n    }\n\n    .dataframe thead th {\n        text-align: right;\n    }\n</style>\n<table border=\"1\" class=\"dataframe\">\n  <thead>\n    <tr style=\"text-align: right;\">\n      <th></th>\n      <th>Order ID</th>\n      <th>Product</th>\n      <th>Quantity Ordered</th>\n      <th>Price Each</th>\n      <th>Order Date</th>\n      <th>Purchase Address</th>\n    </tr>\n  </thead>\n  <tbody>\n    <tr>\n      <th>0</th>\n      <td>295665</td>\n      <td>Macbook Pro Laptop</td>\n      <td>1</td>\n      <td>1700.00</td>\n      <td>12/30/19 00:01</td>\n      <td>136 Church St, New York City, NY 10001</td>\n    </tr>\n    <tr>\n      <th>1</th>\n      <td>295666</td>\n      <td>LG Washing Machine</td>\n      <td>1</td>\n      <td>600.00</td>\n      <td>12/29/19 07:03</td>\n      <td>562 2nd St, New York City, NY 10001</td>\n    </tr>\n    <tr>\n      <th>2</th>\n      <td>295667</td>\n      <td>USB-C Charging Cable</td>\n      <td>1</td>\n      <td>11.95</td>\n      <td>12/12/19 18:21</td>\n      <td>277 Main St, New York City, NY 10001</td>\n    </tr>\n    <tr>\n      <th>3</th>\n      <td>295668</td>\n      <td>27in FHD Monitor</td>\n      <td>1</td>\n      <td>149.99</td>\n      <td>12/22/19 15:13</td>\n      <td>410 6th St, San Francisco, CA 94016</td>\n    </tr>\n    <tr>\n      <th>4</th>\n      <td>295669</td>\n      <td>USB-C Charging Cable</td>\n      <td>1</td>\n      <td>11.95</td>\n      <td>12/18/19 12:38</td>\n      <td>43 Hill St, Atlanta, GA 30301</td>\n    </tr>\n  </tbody>\n</table>\n</div>"
     },
     "execution_count": 22,
     "metadata": {},
     "output_type": "execute_result"
    }
   ],
   "source": [
    "all_data['Quantity Ordered'] = pd.to_numeric(all_data['Quantity Ordered'])# make int\n",
    "all_data['Price Each'] = pd.to_numeric(all_data['Price Each']) #make float\n",
    "all_data.head()"
   ]
  },
  {
   "cell_type": "markdown",
   "metadata": {},
   "source": [
    "## Augment Data with additional columns"
   ]
  },
  {
   "cell_type": "markdown",
   "metadata": {},
   "source": [
    "### Task 2: Add month column"
   ]
  },
  {
   "cell_type": "code",
   "execution_count": 23,
   "metadata": {
    "scrolled": true
   },
   "outputs": [
    {
     "data": {
      "text/plain": "  Order ID               Product  Quantity Ordered  Price Each  \\\n0   295665    Macbook Pro Laptop                 1     1700.00   \n1   295666    LG Washing Machine                 1      600.00   \n2   295667  USB-C Charging Cable                 1       11.95   \n3   295668      27in FHD Monitor                 1      149.99   \n4   295669  USB-C Charging Cable                 1       11.95   \n\n       Order Date                        Purchase Address  Month  \n0  12/30/19 00:01  136 Church St, New York City, NY 10001     12  \n1  12/29/19 07:03     562 2nd St, New York City, NY 10001     12  \n2  12/12/19 18:21    277 Main St, New York City, NY 10001     12  \n3  12/22/19 15:13     410 6th St, San Francisco, CA 94016     12  \n4  12/18/19 12:38           43 Hill St, Atlanta, GA 30301     12  ",
      "text/html": "<div>\n<style scoped>\n    .dataframe tbody tr th:only-of-type {\n        vertical-align: middle;\n    }\n\n    .dataframe tbody tr th {\n        vertical-align: top;\n    }\n\n    .dataframe thead th {\n        text-align: right;\n    }\n</style>\n<table border=\"1\" class=\"dataframe\">\n  <thead>\n    <tr style=\"text-align: right;\">\n      <th></th>\n      <th>Order ID</th>\n      <th>Product</th>\n      <th>Quantity Ordered</th>\n      <th>Price Each</th>\n      <th>Order Date</th>\n      <th>Purchase Address</th>\n      <th>Month</th>\n    </tr>\n  </thead>\n  <tbody>\n    <tr>\n      <th>0</th>\n      <td>295665</td>\n      <td>Macbook Pro Laptop</td>\n      <td>1</td>\n      <td>1700.00</td>\n      <td>12/30/19 00:01</td>\n      <td>136 Church St, New York City, NY 10001</td>\n      <td>12</td>\n    </tr>\n    <tr>\n      <th>1</th>\n      <td>295666</td>\n      <td>LG Washing Machine</td>\n      <td>1</td>\n      <td>600.00</td>\n      <td>12/29/19 07:03</td>\n      <td>562 2nd St, New York City, NY 10001</td>\n      <td>12</td>\n    </tr>\n    <tr>\n      <th>2</th>\n      <td>295667</td>\n      <td>USB-C Charging Cable</td>\n      <td>1</td>\n      <td>11.95</td>\n      <td>12/12/19 18:21</td>\n      <td>277 Main St, New York City, NY 10001</td>\n      <td>12</td>\n    </tr>\n    <tr>\n      <th>3</th>\n      <td>295668</td>\n      <td>27in FHD Monitor</td>\n      <td>1</td>\n      <td>149.99</td>\n      <td>12/22/19 15:13</td>\n      <td>410 6th St, San Francisco, CA 94016</td>\n      <td>12</td>\n    </tr>\n    <tr>\n      <th>4</th>\n      <td>295669</td>\n      <td>USB-C Charging Cable</td>\n      <td>1</td>\n      <td>11.95</td>\n      <td>12/18/19 12:38</td>\n      <td>43 Hill St, Atlanta, GA 30301</td>\n      <td>12</td>\n    </tr>\n  </tbody>\n</table>\n</div>"
     },
     "execution_count": 23,
     "metadata": {},
     "output_type": "execute_result"
    }
   ],
   "source": [
    "all_data['Month'] = all_data['Order Date'].str[0:2]\n",
    "all_data['Month'] = all_data['Month'].astype('int32')\n",
    "all_data.head()"
   ]
  },
  {
   "cell_type": "markdown",
   "metadata": {},
   "source": [
    "### Task 3: Add an order sales column"
   ]
  },
  {
   "cell_type": "code",
   "execution_count": 24,
   "metadata": {},
   "outputs": [
    {
     "data": {
      "text/plain": "  Order ID               Product  Quantity Ordered  Price Each  \\\n0   295665    Macbook Pro Laptop                 1     1700.00   \n1   295666    LG Washing Machine                 1      600.00   \n2   295667  USB-C Charging Cable                 1       11.95   \n3   295668      27in FHD Monitor                 1      149.99   \n4   295669  USB-C Charging Cable                 1       11.95   \n\n       Order Date                        Purchase Address  Month  Order Sales  \n0  12/30/19 00:01  136 Church St, New York City, NY 10001     12      1700.00  \n1  12/29/19 07:03     562 2nd St, New York City, NY 10001     12       600.00  \n2  12/12/19 18:21    277 Main St, New York City, NY 10001     12        11.95  \n3  12/22/19 15:13     410 6th St, San Francisco, CA 94016     12       149.99  \n4  12/18/19 12:38           43 Hill St, Atlanta, GA 30301     12        11.95  ",
      "text/html": "<div>\n<style scoped>\n    .dataframe tbody tr th:only-of-type {\n        vertical-align: middle;\n    }\n\n    .dataframe tbody tr th {\n        vertical-align: top;\n    }\n\n    .dataframe thead th {\n        text-align: right;\n    }\n</style>\n<table border=\"1\" class=\"dataframe\">\n  <thead>\n    <tr style=\"text-align: right;\">\n      <th></th>\n      <th>Order ID</th>\n      <th>Product</th>\n      <th>Quantity Ordered</th>\n      <th>Price Each</th>\n      <th>Order Date</th>\n      <th>Purchase Address</th>\n      <th>Month</th>\n      <th>Order Sales</th>\n    </tr>\n  </thead>\n  <tbody>\n    <tr>\n      <th>0</th>\n      <td>295665</td>\n      <td>Macbook Pro Laptop</td>\n      <td>1</td>\n      <td>1700.00</td>\n      <td>12/30/19 00:01</td>\n      <td>136 Church St, New York City, NY 10001</td>\n      <td>12</td>\n      <td>1700.00</td>\n    </tr>\n    <tr>\n      <th>1</th>\n      <td>295666</td>\n      <td>LG Washing Machine</td>\n      <td>1</td>\n      <td>600.00</td>\n      <td>12/29/19 07:03</td>\n      <td>562 2nd St, New York City, NY 10001</td>\n      <td>12</td>\n      <td>600.00</td>\n    </tr>\n    <tr>\n      <th>2</th>\n      <td>295667</td>\n      <td>USB-C Charging Cable</td>\n      <td>1</td>\n      <td>11.95</td>\n      <td>12/12/19 18:21</td>\n      <td>277 Main St, New York City, NY 10001</td>\n      <td>12</td>\n      <td>11.95</td>\n    </tr>\n    <tr>\n      <th>3</th>\n      <td>295668</td>\n      <td>27in FHD Monitor</td>\n      <td>1</td>\n      <td>149.99</td>\n      <td>12/22/19 15:13</td>\n      <td>410 6th St, San Francisco, CA 94016</td>\n      <td>12</td>\n      <td>149.99</td>\n    </tr>\n    <tr>\n      <th>4</th>\n      <td>295669</td>\n      <td>USB-C Charging Cable</td>\n      <td>1</td>\n      <td>11.95</td>\n      <td>12/18/19 12:38</td>\n      <td>43 Hill St, Atlanta, GA 30301</td>\n      <td>12</td>\n      <td>11.95</td>\n    </tr>\n  </tbody>\n</table>\n</div>"
     },
     "execution_count": 24,
     "metadata": {},
     "output_type": "execute_result"
    }
   ],
   "source": [
    "all_data['Order Sales'] = all_data['Quantity Ordered'] * all_data['Price Each']\n",
    "all_data.head()"
   ]
  },
  {
   "cell_type": "markdown",
   "source": [
    "### Task 4: add city column\n"
   ],
   "metadata": {
    "collapsed": false,
    "pycharm": {
     "name": "#%% md\n"
    }
   }
  },
  {
   "cell_type": "code",
   "execution_count": 31,
   "outputs": [
    {
     "data": {
      "text/plain": "  Order ID               Product  Quantity Ordered  Price Each  \\\n0   295665    Macbook Pro Laptop                 1     1700.00   \n1   295666    LG Washing Machine                 1      600.00   \n2   295667  USB-C Charging Cable                 1       11.95   \n3   295668      27in FHD Monitor                 1      149.99   \n4   295669  USB-C Charging Cable                 1       11.95   \n\n       Order Date                        Purchase Address  Month  Order Sales  \\\n0  12/30/19 00:01  136 Church St, New York City, NY 10001     12      1700.00   \n1  12/29/19 07:03     562 2nd St, New York City, NY 10001     12       600.00   \n2  12/12/19 18:21    277 Main St, New York City, NY 10001     12        11.95   \n3  12/22/19 15:13     410 6th St, San Francisco, CA 94016     12       149.99   \n4  12/18/19 12:38           43 Hill St, Atlanta, GA 30301     12        11.95   \n\n                  City  \n0   New York City (NY)  \n1   New York City (NY)  \n2   New York City (NY)  \n3   San Francisco (CA)  \n4         Atlanta (GA)  ",
      "text/html": "<div>\n<style scoped>\n    .dataframe tbody tr th:only-of-type {\n        vertical-align: middle;\n    }\n\n    .dataframe tbody tr th {\n        vertical-align: top;\n    }\n\n    .dataframe thead th {\n        text-align: right;\n    }\n</style>\n<table border=\"1\" class=\"dataframe\">\n  <thead>\n    <tr style=\"text-align: right;\">\n      <th></th>\n      <th>Order ID</th>\n      <th>Product</th>\n      <th>Quantity Ordered</th>\n      <th>Price Each</th>\n      <th>Order Date</th>\n      <th>Purchase Address</th>\n      <th>Month</th>\n      <th>Order Sales</th>\n      <th>City</th>\n    </tr>\n  </thead>\n  <tbody>\n    <tr>\n      <th>0</th>\n      <td>295665</td>\n      <td>Macbook Pro Laptop</td>\n      <td>1</td>\n      <td>1700.00</td>\n      <td>12/30/19 00:01</td>\n      <td>136 Church St, New York City, NY 10001</td>\n      <td>12</td>\n      <td>1700.00</td>\n      <td>New York City (NY)</td>\n    </tr>\n    <tr>\n      <th>1</th>\n      <td>295666</td>\n      <td>LG Washing Machine</td>\n      <td>1</td>\n      <td>600.00</td>\n      <td>12/29/19 07:03</td>\n      <td>562 2nd St, New York City, NY 10001</td>\n      <td>12</td>\n      <td>600.00</td>\n      <td>New York City (NY)</td>\n    </tr>\n    <tr>\n      <th>2</th>\n      <td>295667</td>\n      <td>USB-C Charging Cable</td>\n      <td>1</td>\n      <td>11.95</td>\n      <td>12/12/19 18:21</td>\n      <td>277 Main St, New York City, NY 10001</td>\n      <td>12</td>\n      <td>11.95</td>\n      <td>New York City (NY)</td>\n    </tr>\n    <tr>\n      <th>3</th>\n      <td>295668</td>\n      <td>27in FHD Monitor</td>\n      <td>1</td>\n      <td>149.99</td>\n      <td>12/22/19 15:13</td>\n      <td>410 6th St, San Francisco, CA 94016</td>\n      <td>12</td>\n      <td>149.99</td>\n      <td>San Francisco (CA)</td>\n    </tr>\n    <tr>\n      <th>4</th>\n      <td>295669</td>\n      <td>USB-C Charging Cable</td>\n      <td>1</td>\n      <td>11.95</td>\n      <td>12/18/19 12:38</td>\n      <td>43 Hill St, Atlanta, GA 30301</td>\n      <td>12</td>\n      <td>11.95</td>\n      <td>Atlanta (GA)</td>\n    </tr>\n  </tbody>\n</table>\n</div>"
     },
     "execution_count": 31,
     "metadata": {},
     "output_type": "execute_result"
    }
   ],
   "source": [
    "# use .apply() function\n",
    "def get_city(address):\n",
    "    return address.split(',')[1]\n",
    "def get_state(address):\n",
    "    return address.split(',')[2].split(' ')[1]\n",
    "all_data['City'] = all_data['Purchase Address'].apply(lambda x: get_city(x) + ' (' + get_state(x) + ')') # for each cell content split by commas and then grab the first index\n",
    "all_data.head()"
   ],
   "metadata": {
    "collapsed": false,
    "pycharm": {
     "name": "#%%\n"
    }
   }
  },
  {
   "cell_type": "markdown",
   "metadata": {},
   "source": [
    "## Question 1: What was the best month for sales? How much was earned that month?"
   ]
  },
  {
   "cell_type": "code",
   "execution_count": 25,
   "metadata": {},
   "outputs": [],
   "source": [
    "results = all_data.groupby('Month').sum()"
   ]
  },
  {
   "cell_type": "markdown",
   "metadata": {},
   "source": [
    "#### December was the best month for sales"
   ]
  },
  {
   "cell_type": "code",
   "execution_count": 26,
   "metadata": {},
   "outputs": [
    {
     "data": {
      "text/plain": "<Figure size 432x288 with 1 Axes>",
      "image/png": "[encoded data removed]"
     },
     "metadata": {
      "needs_background": "light"
     },
     "output_type": "display_data"
    }
   ],
   "source": [
    "months = range(1, 13)\n",
    "\n",
    "plt.bar(months, results['Order Sales'])\n",
    "plt.xticks(months)\n",
    "plt.ylabel('Sales in USD ($)')\n",
    "plt.xlabel('Month Number')\n",
    "plt.show()"
   ]
  },
  {
   "cell_type": "markdown",
   "metadata": {},
   "source": [
    "## Question 2: Which city had the highest number of Sales?"
   ]
  },
  {
   "cell_type": "code",
   "metadata": {
    "pycharm": {
     "name": "#%%\n"
    }
   },
   "source": [
    "city_sales = all_data.groupby('City').sum()\n",
    "city_sales"
   ],
   "execution_count": 32,
   "outputs": [
    {
     "data": {
      "text/plain": "                     Quantity Ordered    Price Each   Month   Order Sales\nCity                                                                     \n Atlanta (GA)                   16602  2.779908e+06  104794  2.795499e+06\n Austin (TX)                    11153  1.809874e+06   69829  1.819582e+06\n Boston (MA)                    22528  3.637410e+06  141112  3.661642e+06\n Dallas (TX)                    16730  2.752628e+06  104620  2.767975e+06\n Los Angeles (CA)               33289  5.421435e+06  208325  5.452571e+06\n New York City (NY)             27932  4.635371e+06  175741  4.664317e+06\n Portland (ME)                   2750  4.471893e+05   17144  4.497583e+05\n Portland (OR)                  11303  1.860558e+06   70621  1.870732e+06\n San Francisco (CA)             50239  8.211462e+06  315520  8.262204e+06\n Seattle (WA)                   16553  2.733296e+06  104941  2.747755e+06",
      "text/html": "<div>\n<style scoped>\n    .dataframe tbody tr th:only-of-type {\n        vertical-align: middle;\n    }\n\n    .dataframe tbody tr th {\n        vertical-align: top;\n    }\n\n    .dataframe thead th {\n        text-align: right;\n    }\n</style>\n<table border=\"1\" class=\"dataframe\">\n  <thead>\n    <tr style=\"text-align: right;\">\n      <th></th>\n      <th>Quantity Ordered</th>\n      <th>Price Each</th>\n      <th>Month</th>\n      <th>Order Sales</th>\n    </tr>\n    <tr>\n      <th>City</th>\n      <th></th>\n      <th></th>\n      <th></th>\n      <th></th>\n    </tr>\n  </thead>\n  <tbody>\n    <tr>\n      <th>Atlanta (GA)</th>\n      <td>16602</td>\n      <td>2.779908e+06</td>\n      <td>104794</td>\n      <td>2.795499e+06</td>\n    </tr>\n    <tr>\n      <th>Austin (TX)</th>\n      <td>11153</td>\n      <td>1.809874e+06</td>\n      <td>69829</td>\n      <td>1.819582e+06</td>\n    </tr>\n    <tr>\n      <th>Boston (MA)</th>\n      <td>22528</td>\n      <td>3.637410e+06</td>\n      <td>141112</td>\n      <td>3.661642e+06</td>\n    </tr>\n    <tr>\n      <th>Dallas (TX)</th>\n      <td>16730</td>\n      <td>2.752628e+06</td>\n      <td>104620</td>\n      <td>2.767975e+06</td>\n    </tr>\n    <tr>\n      <th>Los Angeles (CA)</th>\n      <td>33289</td>\n      <td>5.421435e+06</td>\n      <td>208325</td>\n      <td>5.452571e+06</td>\n    </tr>\n    <tr>\n      <th>New York City (NY)</th>\n      <td>27932</td>\n      <td>4.635371e+06</td>\n      <td>175741</td>\n      <td>4.664317e+06</td>\n    </tr>\n    <tr>\n      <th>Portland (ME)</th>\n      <td>2750</td>\n      <td>4.471893e+05</td>\n      <td>17144</td>\n      <td>4.497583e+05</td>\n    </tr>\n    <tr>\n      <th>Portland (OR)</th>\n      <td>11303</td>\n      <td>1.860558e+06</td>\n      <td>70621</td>\n      <td>1.870732e+06</td>\n    </tr>\n    <tr>\n      <th>San Francisco (CA)</th>\n      <td>50239</td>\n      <td>8.211462e+06</td>\n      <td>315520</td>\n      <td>8.262204e+06</td>\n    </tr>\n    <tr>\n      <th>Seattle (WA)</th>\n      <td>16553</td>\n      <td>2.733296e+06</td>\n      <td>104941</td>\n      <td>2.747755e+06</td>\n    </tr>\n  </tbody>\n</table>\n</div>"
     },
     "execution_count": 32,
     "metadata": {},
     "output_type": "execute_result"
    }
   ]
  },
  {
   "cell_type": "code",
   "execution_count": 37,
   "metadata": {},
   "outputs": [
    {
     "data": {
      "text/plain": "<Figure size 432x288 with 1 Axes>",
      "image/png": "[encoded data removed]"
     },
     "metadata": {
      "needs_background": "light"
     },
     "output_type": "display_data"
    }
   ],
   "source": [
    "# make sure that the order of the cities on graph match the order of the above\n",
    "cities = [city for city, df in all_data.groupby('City')]\n",
    "\n",
    "plt.bar(cities, city_sales['Order Sales'])\n",
    "plt.xticks(cities, rotation = 'vertical', size = 8)\n",
    "plt.ylabel('Sales in USD ($)')\n",
    "plt.xlabel('City')\n",
    "plt.show()\n"
   ]
  },
  {
   "cell_type": "markdown",
   "metadata": {
    "pycharm": {
     "name": "#%% md\n"
    }
   },
   "source": [
    "#### As you can see, San Francisco had the highest sales.\n",
    "##### Why is San Francisco so much higher than the other cities?\n",
    "###### Maybe silicon valley attracts more electronics sales...\n",
    "###### Maybe the tech used to advertise is better in SF...\n",
    "###### Maybe people have more money in SF...\n",
    "##### Why does Portland (ME) have the lowest amount of sales?\n",
    "###### Maybe it's because it's the smallest city...\n",
    "###### Maybe advertising isn't as strong there...\n"
   ]
  },
  {
   "cell_type": "markdown",
   "metadata": {
    "pycharm": {
     "name": "#%% md\n"
    }
   },
   "source": [
    "## Question 3: What time should we display advertisements to maximize likelihood of customers buying product?"
   ]
  },
  {
   "cell_type": "code",
   "execution_count": 42,
   "outputs": [
    {
     "data": {
      "text/plain": "  Order ID               Product  Quantity Ordered  Price Each  \\\n0   295665    Macbook Pro Laptop                 1     1700.00   \n1   295666    LG Washing Machine                 1      600.00   \n2   295667  USB-C Charging Cable                 1       11.95   \n3   295668      27in FHD Monitor                 1      149.99   \n4   295669  USB-C Charging Cable                 1       11.95   \n\n       Order Date                        Purchase Address  Month  Order Sales  \\\n0  12/30/19 00:01  136 Church St, New York City, NY 10001     12      1700.00   \n1  12/29/19 07:03     562 2nd St, New York City, NY 10001     12       600.00   \n2  12/12/19 18:21    277 Main St, New York City, NY 10001     12        11.95   \n3  12/22/19 15:13     410 6th St, San Francisco, CA 94016     12       149.99   \n4  12/18/19 12:38           43 Hill St, Atlanta, GA 30301     12        11.95   \n\n                  City     Order Date (DT)  \n0   New York City (NY) 2019-12-30 00:01:00  \n1   New York City (NY) 2019-12-29 07:03:00  \n2   New York City (NY) 2019-12-12 18:21:00  \n3   San Francisco (CA) 2019-12-22 15:13:00  \n4         Atlanta (GA) 2019-12-18 12:38:00  ",
      "text/html": "<div>\n<style scoped>\n    .dataframe tbody tr th:only-of-type {\n        vertical-align: middle;\n    }\n\n    .dataframe tbody tr th {\n        vertical-align: top;\n    }\n\n    .dataframe thead th {\n        text-align: right;\n    }\n</style>\n<table border=\"1\" class=\"dataframe\">\n  <thead>\n    <tr style=\"text-align: right;\">\n      <th></th>\n      <th>Order ID</th>\n      <th>Product</th>\n      <th>Quantity Ordered</th>\n      <th>Price Each</th>\n      <th>Order Date</th>\n      <th>Purchase Address</th>\n      <th>Month</th>\n      <th>Order Sales</th>\n      <th>City</th>\n      <th>Order Date (DT)</th>\n    </tr>\n  </thead>\n  <tbody>\n    <tr>\n      <th>0</th>\n      <td>295665</td>\n      <td>Macbook Pro Laptop</td>\n      <td>1</td>\n      <td>1700.00</td>\n      <td>12/30/19 00:01</td>\n      <td>136 Church St, New York City, NY 10001</td>\n      <td>12</td>\n      <td>1700.00</td>\n      <td>New York City (NY)</td>\n      <td>2019-12-30 00:01:00</td>\n    </tr>\n    <tr>\n      <th>1</th>\n      <td>295666</td>\n      <td>LG Washing Machine</td>\n      <td>1</td>\n      <td>600.00</td>\n      <td>12/29/19 07:03</td>\n      <td>562 2nd St, New York City, NY 10001</td>\n      <td>12</td>\n      <td>600.00</td>\n      <td>New York City (NY)</td>\n      <td>2019-12-29 07:03:00</td>\n    </tr>\n    <tr>\n      <th>2</th>\n      <td>295667</td>\n      <td>USB-C Charging Cable</td>\n      <td>1</td>\n      <td>11.95</td>\n      <td>12/12/19 18:21</td>\n      <td>277 Main St, New York City, NY 10001</td>\n      <td>12</td>\n      <td>11.95</td>\n      <td>New York City (NY)</td>\n      <td>2019-12-12 18:21:00</td>\n    </tr>\n    <tr>\n      <th>3</th>\n      <td>295668</td>\n      <td>27in FHD Monitor</td>\n      <td>1</td>\n      <td>149.99</td>\n      <td>12/22/19 15:13</td>\n      <td>410 6th St, San Francisco, CA 94016</td>\n      <td>12</td>\n      <td>149.99</td>\n      <td>San Francisco (CA)</td>\n      <td>2019-12-22 15:13:00</td>\n    </tr>\n    <tr>\n      <th>4</th>\n      <td>295669</td>\n      <td>USB-C Charging Cable</td>\n      <td>1</td>\n      <td>11.95</td>\n      <td>12/18/19 12:38</td>\n      <td>43 Hill St, Atlanta, GA 30301</td>\n      <td>12</td>\n      <td>11.95</td>\n      <td>Atlanta (GA)</td>\n      <td>2019-12-18 12:38:00</td>\n    </tr>\n  </tbody>\n</table>\n</div>"
     },
     "execution_count": 40,
     "metadata": {},
     "output_type": "execute_result"
    },
    {
     "data": {
      "text/plain": "  Order ID               Product  Quantity Ordered  Price Each  \\\n0   295665    Macbook Pro Laptop                 1     1700.00   \n1   295666    LG Washing Machine                 1      600.00   \n2   295667  USB-C Charging Cable                 1       11.95   \n3   295668      27in FHD Monitor                 1      149.99   \n4   295669  USB-C Charging Cable                 1       11.95   \n\n       Order Date                        Purchase Address  Month  Order Sales  \\\n0  12/30/19 00:01  136 Church St, New York City, NY 10001     12      1700.00   \n1  12/29/19 07:03     562 2nd St, New York City, NY 10001     12       600.00   \n2  12/12/19 18:21    277 Main St, New York City, NY 10001     12        11.95   \n3  12/22/19 15:13     410 6th St, San Francisco, CA 94016     12       149.99   \n4  12/18/19 12:38           43 Hill St, Atlanta, GA 30301     12        11.95   \n\n                  City     Order Date (DT)  \n0   New York City (NY) 2019-12-30 00:01:00  \n1   New York City (NY) 2019-12-29 07:03:00  \n2   New York City (NY) 2019-12-12 18:21:00  \n3   San Francisco (CA) 2019-12-22 15:13:00  \n4         Atlanta (GA) 2019-12-18 12:38:00  ",
      "text/html": "<div>\n<style scoped>\n    .dataframe tbody tr th:only-of-type {\n        vertical-align: middle;\n    }\n\n    .dataframe tbody tr th {\n        vertical-align: top;\n    }\n\n    .dataframe thead th {\n        text-align: right;\n    }\n</style>\n<table border=\"1\" class=\"dataframe\">\n  <thead>\n    <tr style=\"text-align: right;\">\n      <th></th>\n      <th>Order ID</th>\n      <th>Product</th>\n      <th>Quantity Ordered</th>\n      <th>Price Each</th>\n      <th>Order Date</th>\n      <th>Purchase Address</th>\n      <th>Month</th>\n      <th>Order Sales</th>\n      <th>City</th>\n      <th>Order Date (DT)</th>\n    </tr>\n  </thead>\n  <tbody>\n    <tr>\n      <th>0</th>\n      <td>295665</td>\n      <td>Macbook Pro Laptop</td>\n      <td>1</td>\n      <td>1700.00</td>\n      <td>12/30/19 00:01</td>\n      <td>136 Church St, New York City, NY 10001</td>\n      <td>12</td>\n      <td>1700.00</td>\n      <td>New York City (NY)</td>\n      <td>2019-12-30 00:01:00</td>\n    </tr>\n    <tr>\n      <th>1</th>\n      <td>295666</td>\n      <td>LG Washing Machine</td>\n      <td>1</td>\n      <td>600.00</td>\n      <td>12/29/19 07:03</td>\n      <td>562 2nd St, New York City, NY 10001</td>\n      <td>12</td>\n      <td>600.00</td>\n      <td>New York City (NY)</td>\n      <td>2019-12-29 07:03:00</td>\n    </tr>\n    <tr>\n      <th>2</th>\n      <td>295667</td>\n      <td>USB-C Charging Cable</td>\n      <td>1</td>\n      <td>11.95</td>\n      <td>12/12/19 18:21</td>\n      <td>277 Main St, New York City, NY 10001</td>\n      <td>12</td>\n      <td>11.95</td>\n      <td>New York City (NY)</td>\n      <td>2019-12-12 18:21:00</td>\n    </tr>\n    <tr>\n      <th>3</th>\n      <td>295668</td>\n      <td>27in FHD Monitor</td>\n      <td>1</td>\n      <td>149.99</td>\n      <td>12/22/19 15:13</td>\n      <td>410 6th St, San Francisco, CA 94016</td>\n      <td>12</td>\n      <td>149.99</td>\n      <td>San Francisco (CA)</td>\n      <td>2019-12-22 15:13:00</td>\n    </tr>\n    <tr>\n      <th>4</th>\n      <td>295669</td>\n      <td>USB-C Charging Cable</td>\n      <td>1</td>\n      <td>11.95</td>\n      <td>12/18/19 12:38</td>\n      <td>43 Hill St, Atlanta, GA 30301</td>\n      <td>12</td>\n      <td>11.95</td>\n      <td>Atlanta (GA)</td>\n      <td>2019-12-18 12:38:00</td>\n    </tr>\n  </tbody>\n</table>\n</div>"
     },
     "execution_count": 41,
     "metadata": {},
     "output_type": "execute_result"
    },
    {
     "data": {
      "text/plain": "  Order ID               Product  Quantity Ordered  Price Each  \\\n0   295665    Macbook Pro Laptop                 1     1700.00   \n1   295666    LG Washing Machine                 1      600.00   \n2   295667  USB-C Charging Cable                 1       11.95   \n3   295668      27in FHD Monitor                 1      149.99   \n4   295669  USB-C Charging Cable                 1       11.95   \n\n       Order Date                        Purchase Address  Month  Order Sales  \\\n0  12/30/19 00:01  136 Church St, New York City, NY 10001     12      1700.00   \n1  12/29/19 07:03     562 2nd St, New York City, NY 10001     12       600.00   \n2  12/12/19 18:21    277 Main St, New York City, NY 10001     12        11.95   \n3  12/22/19 15:13     410 6th St, San Francisco, CA 94016     12       149.99   \n4  12/18/19 12:38           43 Hill St, Atlanta, GA 30301     12        11.95   \n\n                  City     Order Date (DT)  \n0   New York City (NY) 2019-12-30 00:01:00  \n1   New York City (NY) 2019-12-29 07:03:00  \n2   New York City (NY) 2019-12-12 18:21:00  \n3   San Francisco (CA) 2019-12-22 15:13:00  \n4         Atlanta (GA) 2019-12-18 12:38:00  ",
      "text/html": "<div>\n<style scoped>\n    .dataframe tbody tr th:only-of-type {\n        vertical-align: middle;\n    }\n\n    .dataframe tbody tr th {\n        vertical-align: top;\n    }\n\n    .dataframe thead th {\n        text-align: right;\n    }\n</style>\n<table border=\"1\" class=\"dataframe\">\n  <thead>\n    <tr style=\"text-align: right;\">\n      <th></th>\n      <th>Order ID</th>\n      <th>Product</th>\n      <th>Quantity Ordered</th>\n      <th>Price Each</th>\n      <th>Order Date</th>\n      <th>Purchase Address</th>\n      <th>Month</th>\n      <th>Order Sales</th>\n      <th>City</th>\n      <th>Order Date (DT)</th>\n    </tr>\n  </thead>\n  <tbody>\n    <tr>\n      <th>0</th>\n      <td>295665</td>\n      <td>Macbook Pro Laptop</td>\n      <td>1</td>\n      <td>1700.00</td>\n      <td>12/30/19 00:01</td>\n      <td>136 Church St, New York City, NY 10001</td>\n      <td>12</td>\n      <td>1700.00</td>\n      <td>New York City (NY)</td>\n      <td>2019-12-30 00:01:00</td>\n    </tr>\n    <tr>\n      <th>1</th>\n      <td>295666</td>\n      <td>LG Washing Machine</td>\n      <td>1</td>\n      <td>600.00</td>\n      <td>12/29/19 07:03</td>\n      <td>562 2nd St, New York City, NY 10001</td>\n      <td>12</td>\n      <td>600.00</td>\n      <td>New York City (NY)</td>\n      <td>2019-12-29 07:03:00</td>\n    </tr>\n    <tr>\n      <th>2</th>\n      <td>295667</td>\n      <td>USB-C Charging Cable</td>\n      <td>1</td>\n      <td>11.95</td>\n      <td>12/12/19 18:21</td>\n      <td>277 Main St, New York City, NY 10001</td>\n      <td>12</td>\n      <td>11.95</td>\n      <td>New York City (NY)</td>\n      <td>2019-12-12 18:21:00</td>\n    </tr>\n    <tr>\n      <th>3</th>\n      <td>295668</td>\n      <td>27in FHD Monitor</td>\n      <td>1</td>\n      <td>149.99</td>\n      <td>12/22/19 15:13</td>\n      <td>410 6th St, San Francisco, CA 94016</td>\n      <td>12</td>\n      <td>149.99</td>\n      <td>San Francisco (CA)</td>\n      <td>2019-12-22 15:13:00</td>\n    </tr>\n    <tr>\n      <th>4</th>\n      <td>295669</td>\n      <td>USB-C Charging Cable</td>\n      <td>1</td>\n      <td>11.95</td>\n      <td>12/18/19 12:38</td>\n      <td>43 Hill St, Atlanta, GA 30301</td>\n      <td>12</td>\n      <td>11.95</td>\n      <td>Atlanta (GA)</td>\n      <td>2019-12-18 12:38:00</td>\n    </tr>\n  </tbody>\n</table>\n</div>"
     },
     "execution_count": 42,
     "metadata": {},
     "output_type": "execute_result"
    }
   ],
   "source": [
    "all_data['Order Date (DT)'] = pd.to_datetime(all_data['Order Date'])"
   ],
   "metadata": {
    "collapsed": false,
    "pycharm": {
     "name": "#%%\n"
    }
   }
  },
  {
   "cell_type": "code",
   "execution_count": 43,
   "outputs": [
    {
     "data": {
      "text/plain": "  Order ID               Product  Quantity Ordered  Price Each  \\\n0   295665    Macbook Pro Laptop                 1     1700.00   \n1   295666    LG Washing Machine                 1      600.00   \n2   295667  USB-C Charging Cable                 1       11.95   \n3   295668      27in FHD Monitor                 1      149.99   \n4   295669  USB-C Charging Cable                 1       11.95   \n\n       Order Date                        Purchase Address  Month  Order Sales  \\\n0  12/30/19 00:01  136 Church St, New York City, NY 10001     12      1700.00   \n1  12/29/19 07:03     562 2nd St, New York City, NY 10001     12       600.00   \n2  12/12/19 18:21    277 Main St, New York City, NY 10001     12        11.95   \n3  12/22/19 15:13     410 6th St, San Francisco, CA 94016     12       149.99   \n4  12/18/19 12:38           43 Hill St, Atlanta, GA 30301     12        11.95   \n\n                  City     Order Date (DT)  Hour  Minute  \n0   New York City (NY) 2019-12-30 00:01:00     0       1  \n1   New York City (NY) 2019-12-29 07:03:00     7       3  \n2   New York City (NY) 2019-12-12 18:21:00    18      21  \n3   San Francisco (CA) 2019-12-22 15:13:00    15      13  \n4         Atlanta (GA) 2019-12-18 12:38:00    12      38  ",
      "text/html": "<div>\n<style scoped>\n    .dataframe tbody tr th:only-of-type {\n        vertical-align: middle;\n    }\n\n    .dataframe tbody tr th {\n        vertical-align: top;\n    }\n\n    .dataframe thead th {\n        text-align: right;\n    }\n</style>\n<table border=\"1\" class=\"dataframe\">\n  <thead>\n    <tr style=\"text-align: right;\">\n      <th></th>\n      <th>Order ID</th>\n      <th>Product</th>\n      <th>Quantity Ordered</th>\n      <th>Price Each</th>\n      <th>Order Date</th>\n      <th>Purchase Address</th>\n      <th>Month</th>\n      <th>Order Sales</th>\n      <th>City</th>\n      <th>Order Date (DT)</th>\n      <th>Hour</th>\n      <th>Minute</th>\n    </tr>\n  </thead>\n  <tbody>\n    <tr>\n      <th>0</th>\n      <td>295665</td>\n      <td>Macbook Pro Laptop</td>\n      <td>1</td>\n      <td>1700.00</td>\n      <td>12/30/19 00:01</td>\n      <td>136 Church St, New York City, NY 10001</td>\n      <td>12</td>\n      <td>1700.00</td>\n      <td>New York City (NY)</td>\n      <td>2019-12-30 00:01:00</td>\n      <td>0</td>\n      <td>1</td>\n    </tr>\n    <tr>\n      <th>1</th>\n      <td>295666</td>\n      <td>LG Washing Machine</td>\n      <td>1</td>\n      <td>600.00</td>\n      <td>12/29/19 07:03</td>\n      <td>562 2nd St, New York City, NY 10001</td>\n      <td>12</td>\n      <td>600.00</td>\n      <td>New York City (NY)</td>\n      <td>2019-12-29 07:03:00</td>\n      <td>7</td>\n      <td>3</td>\n    </tr>\n    <tr>\n      <th>2</th>\n      <td>295667</td>\n      <td>USB-C Charging Cable</td>\n      <td>1</td>\n      <td>11.95</td>\n      <td>12/12/19 18:21</td>\n      <td>277 Main St, New York City, NY 10001</td>\n      <td>12</td>\n      <td>11.95</td>\n      <td>New York City (NY)</td>\n      <td>2019-12-12 18:21:00</td>\n      <td>18</td>\n      <td>21</td>\n    </tr>\n    <tr>\n      <th>3</th>\n      <td>295668</td>\n      <td>27in FHD Monitor</td>\n      <td>1</td>\n      <td>149.99</td>\n      <td>12/22/19 15:13</td>\n      <td>410 6th St, San Francisco, CA 94016</td>\n      <td>12</td>\n      <td>149.99</td>\n      <td>San Francisco (CA)</td>\n      <td>2019-12-22 15:13:00</td>\n      <td>15</td>\n      <td>13</td>\n    </tr>\n    <tr>\n      <th>4</th>\n      <td>295669</td>\n      <td>USB-C Charging Cable</td>\n      <td>1</td>\n      <td>11.95</td>\n      <td>12/18/19 12:38</td>\n      <td>43 Hill St, Atlanta, GA 30301</td>\n      <td>12</td>\n      <td>11.95</td>\n      <td>Atlanta (GA)</td>\n      <td>2019-12-18 12:38:00</td>\n      <td>12</td>\n      <td>38</td>\n    </tr>\n  </tbody>\n</table>\n</div>"
     },
     "execution_count": 43,
     "metadata": {},
     "output_type": "execute_result"
    }
   ],
   "source": [
    "all_data['Hour'] = all_data['Order Date (DT)'].dt.hour\n",
    "all_data['Minute'] = all_data['Order Date (DT)'].dt.minute\n",
    "all_data.head()"
   ],
   "metadata": {
    "collapsed": false,
    "pycharm": {
     "name": "#%%\n"
    }
   }
  },
  {
   "cell_type": "code",
   "execution_count": 50,
   "outputs": [
    {
     "data": {
      "text/plain": "<Figure size 432x288 with 1 Axes>",
      "image/png": "[encoded data removed]"
     },
     "metadata": {
      "needs_background": "light"
     },
     "output_type": "display_data"
    }
   ],
   "source": [
    "# plot keys\n",
    "hours = [hour for hour, df in all_data.groupby('Hour')]\n",
    "plt.plot(hours, all_data.groupby(['Hour']).count())\n",
    "plt.xticks(hours)\n",
    "plt.xlabel('Hour')\n",
    "plt.ylabel('# of Orders')\n",
    "plt.grid()\n",
    "plt.show()"
   ],
   "metadata": {
    "collapsed": false,
    "pycharm": {
     "name": "#%%\n"
    }
   }
  },
  {
   "cell_type": "markdown",
   "source": [
    "#### The best time to display ads would be around 11am (11) or 7pm (19).\n"
   ],
   "metadata": {
    "collapsed": false,
    "pycharm": {
     "name": "#%% md\n"
    }
   }
  },
  {
   "cell_type": "code",
   "execution_count": null,
   "outputs": [],
   "source": [],
   "metadata": {
    "collapsed": false,
    "pycharm": {
     "name": "#%%\n"
    }
   }
  }
 ],
 "metadata": {
  "kernelspec": {
   "display_name": "Python 3",
   "language": "python",
   "name": "python3"
  },
  "language_info": {
   "codemirror_mode": {
    "name": "ipython",
    "version": 3
   },
   "file_extension": ".py",
   "mimetype": "text/x-python",
   "name": "python",
   "nbconvert_exporter": "python",
   "pygments_lexer": "ipython3",
   "version": "3.8.2"
  }
 },
 "nbformat": 4,
 "nbformat_minor": 1
}